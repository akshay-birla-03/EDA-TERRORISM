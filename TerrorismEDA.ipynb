{
  "nbformat": 4,
  "nbformat_minor": 0,
  "metadata": {
    "colab": {
      "private_outputs": true,
      "provenance": []
    },
    "kernelspec": {
      "name": "python3",
      "display_name": "Python 3"
    },
    "language_info": {
      "name": "python"
    }
  },
  "cells": [
    {
      "cell_type": "code",
      "execution_count": null,
      "metadata": {
        "id": "5jeZhLcpEOk4"
      },
      "outputs": [],
      "source": [
        "from google.colab import drive\n",
        "drive.mount('/content/drive')"
      ]
    },
    {
      "cell_type": "code",
      "source": [
        "import pandas as pd\n",
        "import numpy as np\n",
        "import matplotlib.pyplot as plt\n",
        "import seaborn as sns\n",
        "!pip install squarify\n",
        "import squarify\n"
      ],
      "metadata": {
        "id": "mYbW_e75HjKX"
      },
      "execution_count": null,
      "outputs": []
    },
    {
      "cell_type": "code",
      "source": [
        "file_path = '/content/drive/MyDrive/terrorism dataset/Global Terrorism - START data.zip'  # Replace with your file path\n",
        "data = pd.read_csv(file_path, encoding='ISO-8859-1')"
      ],
      "metadata": {
        "id": "Rd5-DEY7HSmt"
      },
      "execution_count": null,
      "outputs": []
    },
    {
      "cell_type": "code",
      "source": [
        " #Basic Data Overview\n",
        "print(\"Data Shape: \", data.shape)\n",
        "print(\"\\nColumns: \", data.columns)\n",
        "print(\"\\nData Info: \")\n",
        "print(data.info())"
      ],
      "metadata": {
        "id": "cSwgTqiRH1Kh"
      },
      "execution_count": null,
      "outputs": []
    },
    {
      "cell_type": "code",
      "source": [
        "missing_values = data.isnull().sum()\n",
        "print(\"\\nMissing Values: \\n\", missing_values[missing_values > 0]) #Checking for missing values"
      ],
      "metadata": {
        "id": "gJYtU6fBIIcl"
      },
      "execution_count": null,
      "outputs": []
    },
    {
      "cell_type": "code",
      "source": [
        "print(\"\\nSummary Statistics: \") #Summary Statistics\n",
        "print(data.describe())"
      ],
      "metadata": {
        "id": "aOU-jeXPJRSH"
      },
      "execution_count": null,
      "outputs": []
    },
    {
      "cell_type": "code",
      "source": [
        "plt.figure(figsize=(12,6))\n",
        "sns.countplot(y='region_txt', data=data, order = data['region_txt'].value_counts().index)\n",
        "plt.title('Number of Terrorist Activities by Region')\n",
        "plt.xlabel('Number of Attacks')    # Analyzing Terrorist Activities by Region\n",
        "plt.ylabel('Region')\n",
        "plt.show()"
      ],
      "metadata": {
        "id": "O6kRsnXKJcN7"
      },
      "execution_count": null,
      "outputs": []
    },
    {
      "cell_type": "code",
      "source": [
        "\n",
        "region_counts = data['region_txt'].value_counts()\n",
        "plt.figure(figsize=(12,6))\n",
        "squarify.plot(sizes=region_counts.values, label=region_counts.index, alpha=0.7)\n",
        "plt.title('Terrorist Activities by Region')\n",
        "plt.axis('off')\n",
        "plt.show()"
      ],
      "metadata": {
        "id": "WQ9gzhscMPxH"
      },
      "execution_count": null,
      "outputs": []
    },
    {
      "cell_type": "code",
      "source": [
        "plt.figure(figsize=(12,6))\n",
        "sns.histplot(data['iyear'], bins=50)\n",
        "plt.title('Terrorist Activities Over the Years') #Analyzing Terrorist Activities Over the Years\n",
        "plt.xlabel('Year')\n",
        "plt.ylabel('Number of Attacks')\n",
        "plt.show()\n"
      ],
      "metadata": {
        "id": "FUxPCEVZKbJb"
      },
      "execution_count": null,
      "outputs": []
    },
    {
      "cell_type": "code",
      "source": [
        "# Analyzing Terrorist Activities Over the Years - Line Plot\n",
        "plt.figure(figsize=(12,6))\n",
        "sns.lineplot(x='iyear', y='eventid', data=data.groupby('iyear').count().reset_index())\n",
        "plt.title('Trend of Terrorist Activities Over the Years')\n",
        "plt.xlabel('Year')\n",
        "plt.ylabel('Number of Attacks')\n",
        "plt.show()\n"
      ],
      "metadata": {
        "id": "kmuwlYArN_8a"
      },
      "execution_count": null,
      "outputs": []
    },
    {
      "cell_type": "code",
      "source": [
        "#  Top Targeted Countries - Horizontal Bar Plot\n",
        "plt.figure(figsize=(12,6))\n",
        "country_counts = data['country_txt'].value_counts().head(10)\n",
        "sns.barplot(x=country_counts.values, y=country_counts.index, palette='viridis')\n",
        "plt.title('Top 10 Targeted Countries')\n",
        "plt.xlabel('Number of Attacks')\n",
        "plt.ylabel('Country')\n",
        "plt.show()"
      ],
      "metadata": {
        "id": "2driMQ0-OFNI"
      },
      "execution_count": null,
      "outputs": []
    },
    {
      "cell_type": "code",
      "source": [
        "#  Analyzing Attack Types - Pie Chart\n",
        "attack_type_counts = data['attacktype1_txt'].value_counts()\n",
        "plt.figure(figsize=(8,8))\n",
        "plt.pie(attack_type_counts, labels=attack_type_counts.index, autopct='%1.1f%%', startangle=140, colors=sns.color_palette('pastel'))\n",
        "plt.title('Attack Types Distribution')\n",
        "plt.show()"
      ],
      "metadata": {
        "id": "W6sFN8tLOM6j"
      },
      "execution_count": null,
      "outputs": []
    },
    {
      "cell_type": "code",
      "source": [
        "#  Analyzing Weapon Types - Donut Chart\n",
        "weapon_type_counts = data['weaptype1_txt'].value_counts()\n",
        "plt.figure(figsize=(8,8))\n",
        "plt.pie(weapon_type_counts, labels=weapon_type_counts.index, autopct='%1.1f%%', startangle=140, colors=sns.color_palette('muted'), wedgeprops=dict(width=0.3))\n",
        "plt.title('Weapon Types Used')\n",
        "plt.show()"
      ],
      "metadata": {
        "id": "QU-1R9zaOjas"
      },
      "execution_count": null,
      "outputs": []
    },
    {
      "cell_type": "code",
      "source": [
        "#  Analyzing Terrorist Groups - Bar Plot\n",
        "plt.figure(figsize=(12,6))\n",
        "group_counts = data['gname'].value_counts().iloc[1:11]  # Excluding 'Unknown'\n",
        "sns.barplot(x=group_counts.values, y=group_counts.index, palette='magma')\n",
        "plt.title('Top 10 Terrorist Groups')\n",
        "plt.xlabel('Number of Attacks')\n",
        "plt.ylabel('Group Name')\n",
        "plt.show()\n"
      ],
      "metadata": {
        "id": "6slFC-uGO6qK"
      },
      "execution_count": null,
      "outputs": []
    },
    {
      "cell_type": "code",
      "source": [
        "#  Success Rate of Terrorist Attacks - Stacked Bar Plot\n",
        "success_counts = data.groupby(['iyear', 'success']).size().unstack().fillna(0)\n",
        "success_counts.plot(kind='bar', stacked=True, figsize=(12,6), colormap='Paired')\n",
        "plt.title('Success Rate of Terrorist Attacks Over the Years')\n",
        "plt.xlabel('Year')\n",
        "plt.ylabel('Number of Attacks')\n",
        "plt.legend(title='Success (1: Yes, 0: No)')\n",
        "plt.show()\n"
      ],
      "metadata": {
        "id": "7i5JbWQdPFQG"
      },
      "execution_count": null,
      "outputs": []
    },
    {
      "cell_type": "code",
      "source": [
        "# Identify non-numeric columns\n",
        "non_numeric_columns = data.select_dtypes(exclude=[np.number]).columns\n",
        "print(\"Non-Numeric Columns: \", non_numeric_columns)\n",
        "\n",
        "#  Exclude non-numeric columns\n",
        "numeric_data = data.select_dtypes(include=[np.number])\n",
        "\n",
        "#  Correlation Matrix - Heatmap\n",
        "plt.figure(figsize=(12,6))\n",
        "corr_matrix = numeric_data.corr()\n",
        "sns.heatmap(corr_matrix, annot=False, cmap='coolwarm', fmt='.2f')\n",
        "plt.title('Correlation Matrix')\n",
        "plt.show()\n"
      ],
      "metadata": {
        "id": "s2BSISq-PQd-"
      },
      "execution_count": null,
      "outputs": []
    },
    {
      "cell_type": "code",
      "source": [
        "# Step 6: Split the numeric columns into two groups\n",
        "cols = numeric_data.columns\n",
        "mid = len(cols) // 2\n",
        "group1 = cols[:mid]\n",
        "group2 = cols[mid:]\n",
        "\n",
        "# Step 7: Correlation Matrix - Heatmap for Group 1\n",
        "plt.figure(figsize=(12,6))\n",
        "corr_matrix_group1 = numeric_data[group1].corr()\n",
        "sns.heatmap(corr_matrix_group1, annot=False, cmap='coolwarm', fmt='.2f')\n",
        "plt.title('Correlation Matrix - Group 1')\n",
        "plt.show()\n"
      ],
      "metadata": {
        "id": "333dKH0lRqWH"
      },
      "execution_count": null,
      "outputs": []
    },
    {
      "cell_type": "code",
      "source": [
        "plt.figure(figsize=(12,6))\n",
        "corr_matrix_group2 = numeric_data[group2].corr()\n",
        "sns.heatmap(corr_matrix_group2, annot=False, cmap='coolwarm', fmt='.2f')\n",
        "plt.title('Correlation Matrix - Group 2')\n",
        "plt.show()"
      ],
      "metadata": {
        "id": "MFZuc0z9SMIv"
      },
      "execution_count": null,
      "outputs": []
    },
    {
      "cell_type": "code",
      "source": [
        "#Identify the region with the highest number of terrorist activities.\n",
        "most_affected_region = data['region_txt'].value_counts().idxmax()\n",
        "print(f\"The region most affected by terrorism is {most_affected_region}.\")"
      ],
      "metadata": {
        "id": "3MFVx4mbLXtE"
      },
      "execution_count": null,
      "outputs": []
    },
    {
      "cell_type": "code",
      "source": [],
      "metadata": {
        "id": "TuhYmFg-Oaqq"
      },
      "execution_count": null,
      "outputs": []
    },
    {
      "cell_type": "code",
      "source": [
        "# Year with the most terrorist activities.\n",
        "most_active_year = data['iyear'].value_counts().idxmax()\n",
        "print(f\"The year with the most terrorist activities is {most_active_year}.\")"
      ],
      "metadata": {
        "id": "cnKXYhHzLfzR"
      },
      "execution_count": null,
      "outputs": []
    }
  ]
}